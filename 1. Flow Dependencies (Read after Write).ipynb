{
 "cells": [
  {
   "cell_type": "markdown",
   "metadata": {},
   "source": [
    "# 1. Flow Dependencies (Read after Write)\n",
    "\n",
    "Welcome to our taxonomy of data dependencies in parallel programs. Throughout this notebook, you will find several different (varyingly complex) examples of flow dependencies. We also expect to create more notebooks for other types of dependencies.\n",
    "\n",
    "## What is a flow/RAW dependency?\n",
    "\n",
    "A Flow dependency, also known as a \"true dependency\" or \"read-after-write (RAW)\", occurs when an instruction depends directly on the result of a previous instruction. Imagine the following sequential code:\n",
    "\n",
    "```\n",
    "1. A = 3\n",
    "2. B = A\n",
    "3. C = B\n",
    "```\n",
    "Instruction 2 relies on the output of instruction 1, and instruction 3 relies on the output of instruction 2. Instruction 2 contains a \"Write after Read,\" as `B` is written to after the value of `A` is read. The same is true with instruction 3, as `B` must be read before `C` is written. We say these instructions are each \"truly dependent\" on the instruction preceding them.\n",
    "\n",
    "Before we do any \"live\" examples, let's look at one more, (slightly) more complex example. Observe the following code:\n",
    "\n",
    "```\n",
    "1. x=10;\n",
    "2. y=2*x+5;\n",
    "```\n",
    "Is there a RAW dependence here? Why?\n",
    "\n",
    "\n",
    "Now, let's look at some more examples."
   ]
  },
  {
   "cell_type": "code",
   "execution_count": null,
   "metadata": {},
   "outputs": [],
   "source": []
  }
 ],
 "metadata": {
  "kernelspec": {
   "display_name": "Python 3",
   "language": "python",
   "name": "python3"
  },
  "language_info": {
   "codemirror_mode": {
    "name": "ipython",
    "version": 3
   },
   "file_extension": ".py",
   "mimetype": "text/x-python",
   "name": "python",
   "nbconvert_exporter": "python",
   "pygments_lexer": "ipython3",
   "version": "3.6.4"
  },
  "latex_envs": {
   "LaTeX_envs_menu_present": true,
   "autoclose": false,
   "autocomplete": true,
   "bibliofile": "biblio.bib",
   "cite_by": "apalike",
   "current_citInitial": 1,
   "eqLabelWithNumbers": true,
   "eqNumInitial": 1,
   "hotkeys": {
    "equation": "Ctrl-E",
    "itemize": "Ctrl-I"
   },
   "labels_anchors": false,
   "latex_user_defs": false,
   "report_style_numbering": false,
   "user_envs_cfg": false
  }
 },
 "nbformat": 4,
 "nbformat_minor": 2
}
