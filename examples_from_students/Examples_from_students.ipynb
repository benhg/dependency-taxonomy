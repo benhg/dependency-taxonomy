{
 "cells": [
  {
   "cell_type": "markdown",
   "metadata": {},
   "source": [
    "## Example 1: Fibonacci Sequence\n",
    "\n",
    "The fibonacci sequence, when written iteratively as follows, contains a dependency. Here is the relevant code:\n",
    "\n",
    "```\n",
    "int fib(int x) {\n",
    "    int prevPrev = 0;\n",
    "    int prev = 0;\n",
    "    int curr = 1;\n",
    "\n",
    "    # pragma acc kernels\n",
    "    for (int i=0; i<x; i++) {\n",
    "        prevPrev = prev;\n",
    "        prev = curr;\n",
    "        curr = prevPrev + prev;\n",
    "    }\n",
    "    return curr;\n",
    "}\n",
    "\n",
    "```\n",
    "\n",
    "Let's see what the OpenACC Compiler says about this code:"
   ]
  },
  {
   "cell_type": "code",
   "execution_count": 3,
   "metadata": {},
   "outputs": [
    {
     "name": "stdout",
     "output_type": "stream",
     "text": [
      "fib:\r\n",
      "     10, Loop carried scalar dependence for curr at line 12\r\n",
      "         Loop carried scalar dependence for prev at line 11\r\n",
      "         Scalar last value needed after loop for curr at line 15\r\n",
      "         Accelerator serial kernel generated\r\n",
      "         Generating Tesla code\r\n",
      "         10, #pragma acc loop seq\r\n",
      "     10, Loop carried scalar dependence for curr at line 12\r\n",
      "         Loop carried scalar dependence for prev at line 11\r\n"
     ]
    }
   ],
   "source": [
    "!pgcc -acc -Minfo=accel data_dep_daniel.c\n",
    "\n"
   ]
  },
  {
   "cell_type": "markdown",
   "metadata": {},
   "source": [
    "## Example 2: \n",
    "\n",
    "\n",
    "\n",
    "```\n",
    "#include <openacc.h>\n",
    "\n",
    "int main(){\n",
    "    int N = 20;\n",
    "    int * b = (int*) malloc(sizeof(int) * N);\n",
    "    b[1] = 5;\n",
    "    int * a = (int*) malloc(sizeof(int) * N);\n",
    "    \n",
    "    for(int i = 0; i < N; ++i) {\n",
    "          \n",
    "    }\n",
    "}\n",
    "```\n"
   ]
  },
  {
   "cell_type": "code",
   "execution_count": 4,
   "metadata": {},
   "outputs": [
    {
     "name": "stdout",
     "output_type": "stream",
     "text": [
      "PGC-W-0155-Pointer value created from a nonlong integral type  (ex.c: 5)\r\n",
      "PGC-W-0155-Pointer value created from a nonlong integral type  (ex.c: 7)\r\n",
      "PGC/x86-64 Linux 19.4-0: compilation completed with warnings\r\n"
     ]
    }
   ],
   "source": [
    "!pgcc -acc -Minfo=accel ex.c"
   ]
  },
  {
   "cell_type": "markdown",
   "metadata": {},
   "source": [
    "# Example 3:\n",
    "\n",
    "\n",
    "```\n",
    "int main(){\n",
    "    int N = 20;\n",
    "    int * I = (int*) malloc(sizeof(int) * N);\n",
    "    int ** a = (int**) malloc(sizeof(int*) * N);\n",
    "    for(int i = 0; i < N; ++i)\n",
    "        a[i] = (int*) malloc(sizeof(int) * N);\n",
    "    \n",
    "    a[0][0] = 0;\n",
    "    \n",
    "    for(int i = 0; i < N; ++i) {\n",
    "        for(int j = 0; j < N; ++j) {\n",
    "           a[i][j] = (i != 0) ? ((j != 0) ? a[i-1][j-1] : a[i-1][j]) : a[i][j-1]; \n",
    "           if(i == j) I[i] = j;\n",
    "        }\n",
    "    }\n",
    "}\n",
    "```"
   ]
  },
  {
   "cell_type": "code",
   "execution_count": 5,
   "metadata": {},
   "outputs": [
    {
     "name": "stdout",
     "output_type": "stream",
     "text": [
      "PGC-W-0155-Pointer value created from a nonlong integral type  (ex2.c: 3)\r\n",
      "PGC-W-0155-Pointer value created from a nonlong integral type  (ex2.c: 4)\r\n",
      "PGC-W-0155-Pointer value created from a nonlong integral type  (ex2.c: 6)\r\n",
      "PGC/x86-64 Linux 19.4-0: compilation completed with warnings\r\n"
     ]
    }
   ],
   "source": [
    "!pgcc -acc -Minfo=accel ex2.c"
   ]
  },
  {
   "cell_type": "markdown",
   "metadata": {},
   "source": [
    "## Example 4: Flow Dependency\n",
    "\n",
    "\n",
    "Kobe Davis\n",
    "Prof. Karavanic\n",
    "CS 405\n",
    "1 June 2019\n",
    "\n",
    "This is an example of a matrix operation which contains a flow dependency. Despite the flow dependency, the code may be refactored to execute in parallel. The parallel version of this program, found in the file (flowdep_refactor_par.cpp) demonstrates a solution through refactoring.\n",
    "\n",
    "\n",
    "```\n",
    "#include <cstdlib>\n",
    "#include <ctime>\n",
    "\n",
    "const int DIM = 30; // Height and Width\n",
    "\n",
    "int main() {\n",
    "    srand(time(NULL));\n",
    "\n",
    "    // Declare matrix of height and width, DIM\n",
    "    int data[DIM][DIM];\n",
    "\n",
    "    // Randomly initialize elements in range (0, 1)\n",
    "    for(int i = 0; i < DIM; ++i)\n",
    "        for(int j = 0; j < DIM; ++j)\n",
    "            data[i][j] = rand() % 2;\n",
    "\n",
    "    // If the elements directly above and directly to\n",
    "    // the left are equal, set the current element to match them\n",
    "    // Otherwise do nothing\n",
    "    #pragma acc parallel loop\n",
    "    for(int i = 1; i < DIM; ++i)\n",
    "        for(int j = 1; j < DIM; ++j)\n",
    "            if(!data[i-1][j] == !data[i][j-1]) // XOR\n",
    "                data[i][j] = data[i-1][j] && data[i][j-1];\n",
    "\n",
    "    // There is a flow depency in the above code because our calculation of\n",
    "    // data[i][j] relies on both the previous row and previous column. A partial\n",
    "    // parallelization will not work because a dependency in both the previous\n",
    "    // row and column stops us from simply parallelizing a single loop.\n",
    "\n",
    "    return 0;\n",
    "}\n",
    "```"
   ]
  },
  {
   "cell_type": "code",
   "execution_count": 6,
   "metadata": {},
   "outputs": [
    {
     "name": "stdout",
     "output_type": "stream",
     "text": [
      "main:\r\n",
      "     28, Generating Tesla code\r\n",
      "         34, #pragma acc loop gang, vector(29) /* blockIdx.x threadIdx.x */\r\n",
      "         35, #pragma acc loop seq\r\n",
      "     28, Generating implicit copy(data[:][:])\r\n",
      "     35, Loop carried dependence of data prevents parallelization\r\n",
      "         Loop carried backward dependence of data prevents vectorization\r\n"
     ]
    }
   ],
   "source": [
    "!pgc++ -acc -Minfo=accel flowdep_refactor_seq.cpp"
   ]
  },
  {
   "cell_type": "markdown",
   "metadata": {},
   "source": [
    "## Solution to Example 4\n",
    "\n",
    "\n",
    "```\n",
    "\n",
    "\\\n",
    "```"
   ]
  },
  {
   "cell_type": "code",
   "execution_count": null,
   "metadata": {},
   "outputs": [],
   "source": [
    "!pgc++ -acc -Minfo=accel flowdep_refactor_par.cpp"
   ]
  },
  {
   "cell_type": "code",
   "execution_count": null,
   "metadata": {},
   "outputs": [],
   "source": []
  },
  {
   "cell_type": "code",
   "execution_count": null,
   "metadata": {},
   "outputs": [],
   "source": []
  }
 ],
 "metadata": {
  "kernelspec": {
   "display_name": "Python 3",
   "language": "python",
   "name": "python3"
  },
  "language_info": {
   "codemirror_mode": {
    "name": "ipython",
    "version": 3
   },
   "file_extension": ".py",
   "mimetype": "text/x-python",
   "name": "python",
   "nbconvert_exporter": "python",
   "pygments_lexer": "ipython3",
   "version": "3.6.7"
  }
 },
 "nbformat": 4,
 "nbformat_minor": 2
}
