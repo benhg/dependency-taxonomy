{
 "cells": [
  {
   "cell_type": "markdown",
   "metadata": {},
   "source": [
    "# 1. Flow Dependencies (Read after Write)\n",
    "\n",
    "Welcome to our taxonomy of data dependencies in parallel programs. Throughout this notebook, you will find several different (varyingly complex) examples of flow dependencies. We also expect to create more notebooks for other types of dependencies.\n",
    "\n",
    "## What is a flow/RAW dependency?\n",
    "\n",
    "A Flow dependency, also known as a \"true dependency\" or \"read-after-write (RAW)\", occurs when an instruction depends directly on the result of a previous instruction. Imagine the following sequential code:\n",
    "\n",
    "```\n",
    "1. A = 3\n",
    "2. B = A\n",
    "3. C = B\n",
    "```\n",
    "Instruction 2 relies on the output of instruction 1, and instruction 3 relies on the output of instruction 2. Instruction 2 contains a \"Write after Read,\" as `B` is written to after the value of `A` is read. The same is true with instruction 3, as `B` must be read before `C` is written. We say these instructions are each \"truly dependent\" on the instruction preceding them.\n",
    "\n",
    "Before we do any \"live\" examples, let's look at one more, (slightly) more complex example. Observe the following code:\n",
    "\n",
    "```\n",
    "1. x=10;\n",
    "2. y=2*x+5;\n",
    "```\n",
    "Is there a RAW dependence here? Why?\n",
    "\n",
    "I would posit that there is indeed a RAW dependence here. In instruction 1, `x` is written to, and immediately afterwards, `y` is written to, by reading from `x`. We can therefore say that instruction 2 depends on instruction 1 with a flow (RAW) dependence.\n",
    "\n",
    "\n",
    "Now, let's look at some more examples."
   ]
  },
  {
   "cell_type": "markdown",
   "metadata": {},
   "source": [
    "## Example 1. OpenMP RAW\n",
    "\n",
    "Consider the following loop:\n",
    "\n",
    "```\n",
    "double v=start;\n",
    "int step = 1;\n",
    "\n",
    "for (int i=0; i<N; i+= step){\n",
    "    v += 2;\n",
    "\tv=v +step; \n",
    "    \n",
    "}\n",
    "\n",
    "```\n",
    "Assume the code works. That is, assume there is a function `f` which is dependent only on v and assume that there's an `int main` and all of that.\n",
    "\n",
    "Is there a flow dependence here? \n",
    "\n",
    "I would say that there is indeed a flow dependence here. Between the first and second instructions in the loop, the second instruction cannot execute until the instruction before it has. This example can still benefit from loop-level parallelsim, because each iteration of the loop will not have a problem running in parallel. To observe this, let's compile it with OpenMP.\n",
    "\n",
    "A working version of this code is saved in `omp_1_serial.c`\n",
    "\n",
    "Just to make sure the code compiles, we're going to compile the serial version first."
   ]
  },
  {
   "cell_type": "code",
   "execution_count": 3,
   "metadata": {},
   "outputs": [],
   "source": [
    "!gcc omp_1_serial.c -std=c99"
   ]
  },
  {
   "cell_type": "markdown",
   "metadata": {},
   "source": [
    "Now, let's examine a parallel version. See if you can parallelize it using OpenMP in the cell below."
   ]
  },
  {
   "cell_type": "code",
   "execution_count": null,
   "metadata": {},
   "outputs": [],
   "source": [
    "double v=start;\n",
    "int step = 1;\n",
    "\n",
    "# pragma omp parallel for \n",
    "for (int i=0; i<N; i+= step){\n",
    "    v += 2;\n",
    "    v=v +step; \n",
    "\n",
    "}"
   ]
  }
 ],
 "metadata": {
  "kernelspec": {
   "display_name": "Python 3",
   "language": "python",
   "name": "python3"
  },
  "language_info": {
   "codemirror_mode": {
    "name": "ipython",
    "version": 3
   },
   "file_extension": ".py",
   "mimetype": "text/x-python",
   "name": "python",
   "nbconvert_exporter": "python",
   "pygments_lexer": "ipython3",
   "version": "3.6.4"
  },
  "latex_envs": {
   "LaTeX_envs_menu_present": true,
   "autoclose": false,
   "autocomplete": true,
   "bibliofile": "biblio.bib",
   "cite_by": "apalike",
   "current_citInitial": 1,
   "eqLabelWithNumbers": true,
   "eqNumInitial": 1,
   "hotkeys": {
    "equation": "Ctrl-E",
    "itemize": "Ctrl-I"
   },
   "labels_anchors": false,
   "latex_user_defs": false,
   "report_style_numbering": false,
   "user_envs_cfg": false
  }
 },
 "nbformat": 4,
 "nbformat_minor": 2
}
